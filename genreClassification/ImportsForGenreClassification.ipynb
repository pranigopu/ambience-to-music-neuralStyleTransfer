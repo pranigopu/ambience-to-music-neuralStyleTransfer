{
 "cells": [
  {
   "cell_type": "markdown",
   "metadata": {
    "id": "8C8QHrXWfcDp"
   },
   "source": [
    "# IMPORTS FOR GENRE CLASSIFICATION\n",
    "**NOTE**: The functions below are designed to be easy to import and thus independent of specific user-defined files. Hence, there are constants (such as the list of genres or number of genres) that were obtained elsewhere but are simply typed out here."
   ]
  },
  {
   "cell_type": "markdown",
   "metadata": {},
   "source": [
    "# Importing dependencies\n",
    "\n",
    "Modules imported from upcoming custom imports are as follows:\n",
    "\n",
    "Import statements in `ImportsForDataHandling.ipynb`:\n",
    "\n",
    "- `import csv`\n",
    "- `import pandas as pd`\n",
    "- `import numpy as np`\n",
    "- `from random import shuffle`\n",
    "- `import tensorflow as tf`\n",
    "- `from tensorflow.keras.utils import to_categorical`\n",
    "\n",
    "Import statements in `ImportsForModelHandling.ipynb`:\n",
    "\n",
    "- `import keras`\n",
    "- `import numpy as np`\n",
    "\n",
    "Import statements in `ImportsForAudioHandling.ipynb`:\n",
    "\n",
    "- `import os`\n",
    "- `import librosa`"
   ]
  },
  {
   "cell_type": "code",
   "execution_count": 2,
   "metadata": {},
   "outputs": [
    {
     "name": "stdout",
     "output_type": "stream",
     "text": [
      "importing Jupyter notebook from .\\ImportsForAudioHandling.ipynb\n",
      "importing Jupyter notebook from .\\ImportsForDataHandling.ipynb\n",
      "importing Jupyter notebook from .\\ImportsForModelHandling.ipynb\n"
     ]
    }
   ],
   "source": [
    "import import_ipynb\n",
    "N = import_ipynb.NotebookLoader(path=['.'])\n",
    "N.load_module(\"ImportsForAudioHandling\")\n",
    "N.load_module(\"ImportsForDataHandling\")\n",
    "N.load_module(\"ImportsForModelHandling\")\n",
    "from ImportsForAudioHandling import *\n",
    "from ImportsForDataHandling import *\n",
    "from ImportsForModelHandling import *\n",
    "\n",
    "# For handling graphical display:\n",
    "import IPython.display as ipd\n",
    "\n",
    "# For saving very large files:\n",
    "import pickle"
   ]
  },
  {
   "cell_type": "markdown",
   "metadata": {},
   "source": [
    "# Genre-to-integer mapping and inverse mapping\n",
    "**NOTE**: The relevant maps have already been defined in `ImportsForModelHandling.ipynb`, but this function is included for completeness, since it makes sense that a function to map genres to integers and vice versa should be in a file called \"ImportsForGenreClassification\". Furthermore, the relevant maps are defined as objects, whereas here is a function that may be imported individually and used whenever needed."
   ]
  },
  {
   "cell_type": "code",
   "execution_count": 8,
   "metadata": {},
   "outputs": [],
   "source": [
    "def get_genre_maps(option='both'):\n",
    "    # List of genres (previously obtained from dataset):\n",
    "    genres = ['blues', 'classical', 'country', 'disco', 'hiphop', 'jazz', 'metal', 'pop', 'reggae', 'rock']\n",
    "    genre_to_integer_map = {}\n",
    "    integer_to_genre_map = {}\n",
    "    return_value = []\n",
    "    \n",
    "    # Genre-to-integer:\n",
    "    if option == 'genre_to_integer' or option == 'both':\n",
    "        for i, genre in enumerate(genres):\n",
    "            genre_to_integer_map[genre] = i\n",
    "        return_value.append(genre_to_integer_map)\n",
    "\n",
    "    # Integer-to-genre:\n",
    "    if option == 'integer_to_genre' or option == 'both':\n",
    "        for i, genre in enumerate(genres):\n",
    "            integer_to_genre_map[i] = genre\n",
    "        return_value.append(integer_to_genre_map)\n",
    "\n",
    "    # Returning map(s) as appropriate:\n",
    "    if len(return_value) == 1: return return_value[0]\n",
    "    return return_value"
   ]
  }
 ],
 "metadata": {
  "celltoolbar": "Raw Cell Format",
  "colab": {
   "provenance": []
  },
  "kernelspec": {
   "display_name": "Python 3 (ipykernel)",
   "language": "python",
   "name": "python3"
  },
  "language_info": {
   "codemirror_mode": {
    "name": "ipython",
    "version": 3
   },
   "file_extension": ".py",
   "mimetype": "text/x-python",
   "name": "python",
   "nbconvert_exporter": "python",
   "pygments_lexer": "ipython3",
   "version": "3.11.9"
  }
 },
 "nbformat": 4,
 "nbformat_minor": 4
}
