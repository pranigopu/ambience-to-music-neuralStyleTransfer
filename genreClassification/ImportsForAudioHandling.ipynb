{
 "cells": [
  {
   "cell_type": "markdown",
   "id": "27f858b2-2308-41af-8f14-4916b77eedcd",
   "metadata": {},
   "source": [
    "# IMPORTS FOR AUDIO HANDLING"
   ]
  },
  {
   "cell_type": "code",
   "execution_count": 3,
   "id": "13aaf413-5b4f-486b-85de-8a2675afb061",
   "metadata": {},
   "outputs": [],
   "source": [
    "# For handling file handling: \n",
    "import os\n",
    "\n",
    "# For handling audio:\n",
    "import librosa\n",
    "\n",
    "# For handling arrays:\n",
    "import numpy as np\n",
    "\n",
    "# For handling plotting:\n",
    "import matplotlib.pyplot as plt"
   ]
  },
  {
   "cell_type": "markdown",
   "id": "1729f4cc-389d-43b9-8be5-00de302b066d",
   "metadata": {},
   "source": [
    "# Getting all audio file names within folder"
   ]
  },
  {
   "cell_type": "code",
   "execution_count": null,
   "id": "0c6e4d2c-f4f5-4971-8a53-71b378e0d388",
   "metadata": {},
   "outputs": [],
   "source": [
    "def get_file_names(folder):\n",
    "    os.chdir(folder)\n",
    "\n",
    "    # Iterate through all files in the current directory: \n",
    "    all_file_paths = []\n",
    "    for file in os.listdir():\n",
    "        file_path = f'{file}'\n",
    "        # Only appending audio file names:\n",
    "        if file_path[-3:] == 'wav' or file_path[-3:] == 'mp3':\n",
    "            all_file_paths.append(f'{file}')\n",
    "        \n",
    "    \n",
    "    # Navigating back to the previous folder:\n",
    "    os.chdir('..')\n",
    "\n",
    "    return all_file_paths"
   ]
  },
  {
   "cell_type": "markdown",
   "id": "2478cdda-6112-4f19-ad1d-f9e61dffeec9",
   "metadata": {},
   "source": [
    "# Displaying random audio data for verification\n",
    "\n",
    "Displaying a random audio spectrogram/melspectrogram/MFCCs array in `data` (for verifying the code's success)..."
   ]
  },
  {
   "cell_type": "code",
   "execution_count": null,
   "id": "e6fcc281-46dc-497a-8ece-1506154e01bc",
   "metadata": {},
   "outputs": [],
   "source": [
    "def display_random(data, title, xlabel, ylabel, sr=22050, hop_length=512):\n",
    "    # Checking a random image from `data`...\n",
    "    librosa.display.specshow(data[np.random.randint(0, len(data))], sr=sr, hop_length=hop_length)\n",
    "    plt.title(title)\n",
    "    plt.xlabel(xlabel)\n",
    "    plt.ylabel(ylabel)\n",
    "    plt.colorbar()\n",
    "    # NOTE: Mel bands are represented by colour\n",
    "    plt.show()"
   ]
  },
  {
   "cell_type": "markdown",
   "id": "286b3e9f-03c9-42dd-af78-debe6e0010ec",
   "metadata": {},
   "source": [
    "# Extracting and saving audio data from audio files"
   ]
  },
  {
   "cell_type": "code",
   "execution_count": 2,
   "id": "72fe114a-8d92-4ad0-a7b3-c0cc4d9d8feb",
   "metadata": {},
   "outputs": [],
   "source": [
    "# HELPER 1: Obtaining melspectrogram for given track:\n",
    "def get_melspectrogram_for_track(audio_folder, track, sr, n_fft, hop_length, n_mels):\n",
    "    # Time-domain signal:\n",
    "    signal, sr = librosa.load(audio_folder + '/' + track, sr=sr)\n",
    "    # Short-time Fourier transform:\n",
    "    stft = librosa.core.stft(signal, hop_length=hop_length, n_fft=n_fft)\n",
    "    # Spectrogram:\n",
    "    spectrogram = np.abs(stft)\n",
    "    # Melspectrogram:\n",
    "    melspectrogram = librosa.feature.melspectrogram(S=spectrogram, sr=sr, n_fft=n_fft, hop_length=hop_length, n_mels=n_mels)\n",
    "    return melspectrogram\n",
    "\n",
    "#================================================\n",
    "# HELPER 2: Obtaining MFCCs for given track:\n",
    "def get_mfccs_for_track(audio_folder, track, sr, n_fft, hop_length, n_mfcc):\n",
    "    # Time-domain signal:\n",
    "    signal, sr = librosa.load(audio_folder + '/' + track, sr=sr)\n",
    "    # MFCCs:\n",
    "    mfccs = librosa.feature.mfcc(y=signal, n_fft=n_fft, hop_length=hop_length, n_mfcc=n_mfcc)\n",
    "    return mfccs\n",
    "\n",
    "#================================================\n",
    "# MAIN: Obtaining audio data of given type:\n",
    "def get_all_audio_data_of_given_type(df, audio_folder, storage_file_name, n_fft, hop_length, sr, n_frames, n_mfcc=None, n_mels=None):\n",
    "    # NOTE: `n_frames` was chosen based on the average number of frames per audio file\n",
    "\n",
    "    #------------------------------------\n",
    "    # DETERMINING AUDIO DATA TYPE TO BE EXTRACTED AND SAVED\n",
    "    \n",
    "    # Only handle one audio data type at a time!\n",
    "    if n_mels != None and n_mfcc != None:\n",
    "        raise Exception('Desired audio data type unable to be inferred!')\n",
    "\n",
    "    # Handle at least one audio data type!\n",
    "    if n_mels != None:\n",
    "        audio_data_type = 'melspectrogram'\n",
    "    elif n_mfcc != None:\n",
    "        audio_data_type = 'MFCC'\n",
    "    else:\n",
    "        raise Exception('Desired audio data type unable to be inferred!')\n",
    "    \n",
    "    #------------------------------------\n",
    "    # LOADING/GENERATING AUDIO DATA OF GIVEN TYPE\n",
    "    \n",
    "    # Try to load data if available:\n",
    "    try:\n",
    "        data = np.load(storage_file_name, allow_pickle=True).tolist() # Remember that the data (if stored) was stored as a dictionary\n",
    "        if input(f'Regenerate {audio_data_type}s?') == 'Yes':\n",
    "            raise Exception\n",
    "        # Returning melspectrograms and parameters as a tuple for convenience:\n",
    "        return data.values()\n",
    "\n",
    "    # If not available or if the user wants to regenerate audio data of the given type:\n",
    "    except:\n",
    "        # Obtaining all spectrograms first (they may have been stored previously):\n",
    "        \n",
    "        all_audio_data = []\n",
    "        prev_i, max_i = 0, float(len(df['TRACK'])) # For progress bar\n",
    "        for i, track in enumerate(df['TRACK']):\n",
    "            # Progress bar with maximum length of 12 dots:\n",
    "            if i // (max_i / 12) > prev_i // (max_i / 12):\n",
    "                print('.', end='')\n",
    "            prev_i = i\n",
    "            #________________________\n",
    "            # Obtaining audio data of the given type:\n",
    "            if n_mels != None:\n",
    "                audio_data = get_melspectrogram_for_track(audio_folder, track, sr, n_fft, hop_length, n_mels)\n",
    "            if n_mfcc != None:\n",
    "                audio_data = get_mfccs_for_track(audio_folder, track, sr, n_fft, hop_length, n_mfcc)\n",
    "\n",
    "            #............\n",
    "            # Making sure each audio data array obtained has the same dimensionality...\n",
    "            # NOTE: This is so the dataset as a whole, i.e. `all_audio_data` can be converted to an array and easily stored/handled\n",
    "            \n",
    "            # Pad audio data array if necessary:\n",
    "            if audio_data.shape[1] < n_frames:\n",
    "                audio_data = np.pad(audio_data, ((0, 0), (0, n_frames-audio_data.shape[1])))\n",
    "            # Truncate audio data array if necessary\n",
    "            audio_data = audio_data[:, :n_frames]\n",
    "            #............     \n",
    "            \n",
    "            # Append audio data to the list:\n",
    "            all_audio_data.append(audio_data)\n",
    "        \n",
    "        #------------------------------------\n",
    "        # STORING GENERATED DATA\n",
    "        \n",
    "        print(f'\\nRegenerated {audio_data_type}s!')\n",
    "\n",
    "        # Storing parameters:\n",
    "        params = {'n_fft':n_fft, 'hop_length':hop_length, 'sr':sr, 'n_frames':n_frames}\n",
    "        if n_mels != None:\n",
    "            params['n_mels'] = n_mels\n",
    "        if n_mfcc != None:\n",
    "            params['n_mfcc'] = n_mfcc\n",
    "    \n",
    "        # Saving the obtained data for future use:\n",
    "        data = {'all_audio_data':np.array(all_audio_data), 'params':params}\n",
    "        try:\n",
    "            np.save(storage_file_name, data)\n",
    "        except:\n",
    "            print('File was too large to be saved. You can save the return value using the module `pickle`.')\n",
    "\n",
    "        # Returning melspectrograms and parameters as a tuple for convenience:\n",
    "        return data.values()"
   ]
  },
  {
   "cell_type": "markdown",
   "id": "edc28845-31c2-4869-a568-8680449a60fa",
   "metadata": {},
   "source": [
    "Wrapper functions for obtaining audio data of a particular type..."
   ]
  },
  {
   "cell_type": "code",
   "execution_count": null,
   "id": "254995ac-b4e6-4fa3-9e49-2d045255b26a",
   "metadata": {},
   "outputs": [],
   "source": [
    "def get_all_mfccs(df, audio_folder, mfcc_storage_file_name, n_fft=2048, hop_length=512, sr=22050, n_frames=1294, n_mfcc=40):\n",
    "    # NOTE: `n_frames` was chosen based on the average number of frames per audio file\n",
    "    return get_all_audio_data_of_given_type(df, audio_folder, mfcc_storage_file_name, n_fft, hop_length, sr, n_frames, n_mfcc=n_mfcc)\n",
    "\n",
    "#================================================\n",
    "def get_all_melspectrograms(df, audio_folder, melspectrogram_storage_file_name, n_fft=2048, hop_length=512, sr=22050, n_frames=1294, n_mels=512):\n",
    "    # NOTE: `n_frames` was chosen based on the average number of frames per audio file\n",
    "    return get_all_audio_data_of_given_type(df, audio_folder, melspectrogram_storage_file_name, n_fft, hop_length, sr, n_frames, n_mels=n_mels)"
   ]
  }
 ],
 "metadata": {
  "kernelspec": {
   "display_name": "Python 3 (ipykernel)",
   "language": "python",
   "name": "python3"
  },
  "language_info": {
   "codemirror_mode": {
    "name": "ipython",
    "version": 3
   },
   "file_extension": ".py",
   "mimetype": "text/x-python",
   "name": "python",
   "nbconvert_exporter": "python",
   "pygments_lexer": "ipython3",
   "version": "3.11.9"
  }
 },
 "nbformat": 4,
 "nbformat_minor": 5
}
